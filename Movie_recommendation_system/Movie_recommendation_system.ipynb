{
 "cells": [
  {
   "cell_type": "code",
   "execution_count": 1,
   "id": "afcaea9f",
   "metadata": {},
   "outputs": [],
   "source": [
    "import pandas as pd\n",
    "from sklearn.feature_extraction.text import TfidfVectorizer\n",
    "from sklearn.metrics.pairwise import linear_kernel"
   ]
  },
  {
   "cell_type": "code",
   "execution_count": 2,
   "id": "0ec66754",
   "metadata": {},
   "outputs": [],
   "source": [
    "movies_data = pd.read_csv('movies.csv')"
   ]
  },
  {
   "cell_type": "code",
   "execution_count": 3,
   "id": "7e817699",
   "metadata": {},
   "outputs": [],
   "source": [
    "movies_data['genres'] = movies_data['genres'].fillna('[]').apply(lambda x: x.split('|'))"
   ]
  },
  {
   "cell_type": "code",
   "execution_count": 4,
   "id": "3511b175",
   "metadata": {},
   "outputs": [],
   "source": [
    "movies_data['genres_str'] = movies_data['genres'].apply(lambda x: ' '.join(x))"
   ]
  },
  {
   "cell_type": "code",
   "execution_count": 5,
   "id": "2c2de0e7",
   "metadata": {},
   "outputs": [],
   "source": [
    "tfidf_vectorizer = TfidfVectorizer(stop_words='english')\n",
    "tfidf_matrix = tfidf_vectorizer.fit_transform(movies_data['genres_str'])"
   ]
  },
  {
   "cell_type": "code",
   "execution_count": 6,
   "id": "b8ff20db",
   "metadata": {},
   "outputs": [],
   "source": [
    "cosine_similarity = linear_kernel(tfidf_matrix, tfidf_matrix)"
   ]
  },
  {
   "cell_type": "code",
   "execution_count": 13,
   "id": "1eecf8fc",
   "metadata": {},
   "outputs": [],
   "source": [
    "def get_recommendations(movie_title, cosine_sim=cosine_similarity):\n",
    "    # Check if the movie title exists in the dataset\n",
    "    if movie_title not in movies_data['title'].values:\n",
    "        return f\"Movie '{movie_title}' not found in the dataset.\"\n",
    "\n",
    "    # Get the index of the movie\n",
    "    idx = movies_data.index[movies_data['title'] == movie_title].tolist()[0]\n",
    "\n",
    "    # Get the pairwsie similarity scores of all movies with that movie\n",
    "    sim_scores = list(enumerate(cosine_sim[idx]))\n",
    "\n",
    "    # Sort the movies based on the similarity scores\n",
    "    sim_scores = sorted(sim_scores, key=lambda x: x[1], reverse=True)\n",
    "\n",
    "    # Get the scores of the 10 most similar movies\n",
    "    sim_scores = sim_scores[1:11]\n",
    "\n",
    "    # Get the movie indices\n",
    "    movie_indices = [score[0] for score in sim_scores]\n",
    "\n",
    "    # Return the top 10 most similar movies\n",
    "    return movies_data['title'].iloc[movie_indices]\n"
   ]
  },
  {
   "cell_type": "code",
   "execution_count": 19,
   "id": "1a86a802",
   "metadata": {},
   "outputs": [
    {
     "name": "stdout",
     "output_type": "stream",
     "text": [
      "Your Movie TitleToy Story (1995)\n"
     ]
    }
   ],
   "source": [
    "movie_title = input(\"Your Movie Title\")  # Replace with the title of a movie in your dataset\n",
    "recommendations = get_recommendations(movie_title)"
   ]
  },
  {
   "cell_type": "code",
   "execution_count": 20,
   "id": "e3be4d0b",
   "metadata": {},
   "outputs": [
    {
     "name": "stdout",
     "output_type": "stream",
     "text": [
      "Recommendations for 'Toy Story (1995)':\n",
      "1815                                          Antz (1998)\n",
      "2496                                   Toy Story 2 (1999)\n",
      "2967       Adventures of Rocky and Bullwinkle, The (2000)\n",
      "3166                     Emperor's New Groove, The (2000)\n",
      "3811                                Monsters, Inc. (2001)\n",
      "6617    DuckTales: The Movie - Treasure of the Lost La...\n",
      "6997                                     Wild, The (2006)\n",
      "7382                               Shrek the Third (2007)\n",
      "7987                       Tale of Despereaux, The (2008)\n",
      "9215    Asterix and the Vikings (Astérix et les Viking...\n",
      "Name: title, dtype: object\n"
     ]
    }
   ],
   "source": [
    "print(f\"Recommendations for '{movie_title}':\")\n",
    "print(recommendations)"
   ]
  },
  {
   "cell_type": "code",
   "execution_count": null,
   "id": "57785be7",
   "metadata": {},
   "outputs": [],
   "source": []
  }
 ],
 "metadata": {
  "kernelspec": {
   "display_name": "Python 3 (ipykernel)",
   "language": "python",
   "name": "python3"
  },
  "language_info": {
   "codemirror_mode": {
    "name": "ipython",
    "version": 3
   },
   "file_extension": ".py",
   "mimetype": "text/x-python",
   "name": "python",
   "nbconvert_exporter": "python",
   "pygments_lexer": "ipython3",
   "version": "3.9.2"
  }
 },
 "nbformat": 4,
 "nbformat_minor": 5
}
